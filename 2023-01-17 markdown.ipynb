{
  "metadata": {
    "kernelspec": {
      "name": "python",
      "display_name": "Python (Pyodide)",
      "language": "python"
    },
    "language_info": {
      "codemirror_mode": {
        "name": "python",
        "version": 3
      },
      "file_extension": ".py",
      "mimetype": "text/x-python",
      "name": "python",
      "nbconvert_exporter": "python",
      "pygments_lexer": "ipython3",
      "version": "3.8"
    }
  },
  "nbformat_minor": 4,
  "nbformat": 4,
  "cells": [
    {
      "cell_type": "markdown",
      "source": "# My Jupyter Notebook on IBM Watson Studio\n",
      "metadata": {}
    },
    {
      "cell_type": "markdown",
      "source": "**Arghya Paul** <br>\ni am a student",
      "metadata": {}
    },
    {
      "cell_type": "markdown",
      "source": "*I am interested in data science because...*",
      "metadata": {}
    },
    {
      "cell_type": "markdown",
      "source": "sum of two numbers",
      "metadata": {}
    },
    {
      "cell_type": "code",
      "source": "a=5\nb=6\nsum =a+b\nprint(\"sum\", sum)",
      "metadata": {
        "trusted": true
      },
      "execution_count": 8,
      "outputs": [
        {
          "name": "stdout",
          "text": "sum 11\n",
          "output_type": "stream"
        }
      ]
    },
    {
      "cell_type": "markdown",
      "source": "|Name | id| Dept |\n------|-----|-----|\n|x| 2021met054|Met|\n|y|2021mnb089|Min|\n|z|2021csb096|CSE|\n~student~\n[google](https://www.google.co.in/)",
      "metadata": {}
    }
  ]
}